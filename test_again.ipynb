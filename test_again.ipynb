{
 "cells": [
  {
   "cell_type": "code",
   "execution_count": 23,
   "metadata": {},
   "outputs": [
    {
     "name": "stdout",
     "output_type": "stream",
     "text": [
      "\"['Unnamed: 0'] not found in axis\"\n"
     ]
    }
   ],
   "source": [
    "import pandas as pd\n",
    "y = pd.read_csv('artifact\\\\\\\\2023-16-09_17-18-48\\\\\\\\reg_train_test_data\\\\\\\\reg_train_data\\\\\\\\train_target.csv')\n",
    "x = pd.read_csv('artifact\\\\\\\\2023-16-09_17-18-48\\\\\\\\reg_train_test_data\\\\\\\\reg_train_data\\\\\\\\train_input.csv')\n",
    "\n",
    "y.drop(columns='Unnamed: 0', inplace=True)\n",
    "test_x = pd.read_csv('artifact\\\\\\\\2023-16-09_17-18-48\\\\\\\\reg_train_test_data\\\\\\\\reg_test_data\\\\\\\\test_input.csv')\n",
    "test_y = pd.read_csv('artifact\\\\\\\\2023-16-09_17-18-48\\\\\\\\reg_train_test_data\\\\\\\\reg_test_data\\\\\\\\test_target.csv')\n",
    "try:\n",
    "    for i in [test_x, test_y,x,y]:\n",
    "        i.drop(columns = 'Unnamed: 0', inplace=True)\n",
    "except Exception as e:\n",
    "    print(e)\n"
   ]
  },
  {
   "cell_type": "code",
   "execution_count": 14,
   "metadata": {},
   "outputs": [],
   "source": [
    "import pickle \n",
    "import pandas as pd\n",
    "model = 'MODEL_CONTAINER\\\\\\\\2023-18-09_15-38-22\\\\\\\\GradientBoostingRegressor.pkl'\n",
    "with open(model, 'rb') as file:\n",
    "    model2 = pickle.load(file)"
   ]
  },
  {
   "cell_type": "code",
   "execution_count": 22,
   "metadata": {},
   "outputs": [
    {
     "name": "stderr",
     "output_type": "stream",
     "text": [
      "C:\\Users\\Lokesh\\AppData\\Local\\Packages\\PythonSoftwareFoundation.Python.3.10_qbz5n2kfra8p0\\LocalCache\\local-packages\\Python310\\site-packages\\sklearn\\base.py:464: UserWarning: X does not have valid feature names, but GradientBoostingRegressor was fitted with feature names\n",
      "  warnings.warn(\n"
     ]
    },
    {
     "data": {
      "text/plain": [
       "0.37017462405975055"
      ]
     },
     "execution_count": 22,
     "metadata": {},
     "output_type": "execute_result"
    }
   ],
   "source": [
    "from sklearn.metrics import r2_score\n",
    "# converting test x \n",
    "\n",
    "with open('Z_scaled_obj\\\\\\\\Z_regression_.pkl' , 'rb') as file:\n",
    "    scaling = pickle.load(file)\n",
    "\n",
    "with open('Transformed_obj\\\\\\\\regression_.pkl' , 'rb') as file:\n",
    "    pca = pickle.load(file)\n",
    "test_x = scaling.transform(test_x)\n",
    "test_x = pca.transform(test_x)\n",
    "output = model2.predict(test_x)\n",
    "\n",
    "r2_score(test_y,output)"
   ]
  },
  {
   "cell_type": "code",
   "execution_count": null,
   "metadata": {},
   "outputs": [],
   "source": []
  }
 ],
 "metadata": {
  "kernelspec": {
   "display_name": "Python 3",
   "language": "python",
   "name": "python3"
  },
  "language_info": {
   "codemirror_mode": {
    "name": "ipython",
    "version": 3
   },
   "file_extension": ".py",
   "mimetype": "text/x-python",
   "name": "python",
   "nbconvert_exporter": "python",
   "pygments_lexer": "ipython3",
   "version": "3.10.11"
  },
  "orig_nbformat": 4
 },
 "nbformat": 4,
 "nbformat_minor": 2
}
